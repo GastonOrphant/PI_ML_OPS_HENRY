{
 "cells": [
  {
   "cell_type": "code",
   "execution_count": 26,
   "metadata": {},
   "outputs": [],
   "source": [
    "import pandas as pd\n",
    "import matplotlib.pyplot as plt\n",
    "\n",
    "%matplotlib inline\n",
    "\n",
    "# Libreria surprise para entrenamiento\n",
    "from surprise import Dataset, Reader, SVD\n",
    "from surprise.model_selection import train_test_split"
   ]
  },
  {
   "cell_type": "code",
   "execution_count": 27,
   "metadata": {},
   "outputs": [],
   "source": [
    "# Cargar el conjunto de datos de scores\n",
    "df = pd.read_csv(\"datasets/scores.csv\")\n",
    "\n",
    "# Cargar el conjunto de datos de movies para sacar luego el titulo de las peliculas\n",
    "df_titles = pd.read_csv(\"datasets/movies_titles.csv\")"
   ]
  },
  {
   "cell_type": "code",
   "execution_count": 28,
   "metadata": {},
   "outputs": [
    {
     "data": {
      "text/html": [
       "<div>\n",
       "<style scoped>\n",
       "    .dataframe tbody tr th:only-of-type {\n",
       "        vertical-align: middle;\n",
       "    }\n",
       "\n",
       "    .dataframe tbody tr th {\n",
       "        vertical-align: top;\n",
       "    }\n",
       "\n",
       "    .dataframe thead th {\n",
       "        text-align: right;\n",
       "    }\n",
       "</style>\n",
       "<table border=\"1\" class=\"dataframe\">\n",
       "  <thead>\n",
       "    <tr style=\"text-align: right;\">\n",
       "      <th></th>\n",
       "      <th>id</th>\n",
       "      <th>title</th>\n",
       "    </tr>\n",
       "  </thead>\n",
       "  <tbody>\n",
       "    <tr>\n",
       "      <th>0</th>\n",
       "      <td>as1</td>\n",
       "      <td>the grand seduction</td>\n",
       "    </tr>\n",
       "    <tr>\n",
       "      <th>1</th>\n",
       "      <td>as2</td>\n",
       "      <td>take care good night</td>\n",
       "    </tr>\n",
       "    <tr>\n",
       "      <th>2</th>\n",
       "      <td>as3</td>\n",
       "      <td>secrets of deception</td>\n",
       "    </tr>\n",
       "    <tr>\n",
       "      <th>3</th>\n",
       "      <td>as4</td>\n",
       "      <td>pink: staying true</td>\n",
       "    </tr>\n",
       "    <tr>\n",
       "      <th>4</th>\n",
       "      <td>as5</td>\n",
       "      <td>monster maker</td>\n",
       "    </tr>\n",
       "    <tr>\n",
       "      <th>...</th>\n",
       "      <td>...</td>\n",
       "      <td>...</td>\n",
       "    </tr>\n",
       "    <tr>\n",
       "      <th>22993</th>\n",
       "      <td>ns8803</td>\n",
       "      <td>zodiac</td>\n",
       "    </tr>\n",
       "    <tr>\n",
       "      <th>22994</th>\n",
       "      <td>ns8804</td>\n",
       "      <td>zombie dumb</td>\n",
       "    </tr>\n",
       "    <tr>\n",
       "      <th>22995</th>\n",
       "      <td>ns8805</td>\n",
       "      <td>zombieland</td>\n",
       "    </tr>\n",
       "    <tr>\n",
       "      <th>22996</th>\n",
       "      <td>ns8806</td>\n",
       "      <td>zoom</td>\n",
       "    </tr>\n",
       "    <tr>\n",
       "      <th>22997</th>\n",
       "      <td>ns8807</td>\n",
       "      <td>zubaan</td>\n",
       "    </tr>\n",
       "  </tbody>\n",
       "</table>\n",
       "<p>22998 rows × 2 columns</p>\n",
       "</div>"
      ],
      "text/plain": [
       "           id                 title\n",
       "0         as1   the grand seduction\n",
       "1         as2  take care good night\n",
       "2         as3  secrets of deception\n",
       "3         as4    pink: staying true\n",
       "4         as5         monster maker\n",
       "...       ...                   ...\n",
       "22993  ns8803                zodiac\n",
       "22994  ns8804           zombie dumb\n",
       "22995  ns8805            zombieland\n",
       "22996  ns8806                  zoom\n",
       "22997  ns8807                zubaan\n",
       "\n",
       "[22998 rows x 2 columns]"
      ]
     },
     "execution_count": 28,
     "metadata": {},
     "output_type": "execute_result"
    }
   ],
   "source": [
    "# Del dataset de peliculas solo nos interesa quedarnos con el id y su titulo\n",
    "\n",
    "df_titles = df_titles[['id','title']]\n",
    "\n",
    "df_titles = df_titles.reset_index(drop=True)\n",
    "\n",
    "df_titles"
   ]
  },
  {
   "cell_type": "code",
   "execution_count": 29,
   "metadata": {},
   "outputs": [],
   "source": [
    "# Pasos previos a realización de la predicción\n",
    "\n",
    "N_filas = 100000 # Limitamos el dataset a N_filas\n",
    "\n",
    "reader = Reader(rating_scale=(1, 5))\n",
    "\n",
    "data = Dataset.load_from_df(df[['userId', 'movieId', 'score']][:N_filas], reader)\n",
    "\n",
    "# Separamos nuestros datos\n",
    "\n",
    "trainset, testset = train_test_split(data, test_size=.25)\n"
   ]
  },
  {
   "cell_type": "code",
   "execution_count": 30,
   "metadata": {},
   "outputs": [
    {
     "data": {
      "text/plain": [
       "<surprise.prediction_algorithms.matrix_factorization.SVD at 0x223f4f03c40>"
      ]
     },
     "execution_count": 30,
     "metadata": {},
     "output_type": "execute_result"
    }
   ],
   "source": [
    "# Entrenamos el modelo SVD\n",
    "\n",
    "model = SVD()\n",
    "\n",
    "model.fit(trainset)"
   ]
  },
  {
   "cell_type": "code",
   "execution_count": 31,
   "metadata": {},
   "outputs": [],
   "source": [
    "# Predecimos\n",
    "\n",
    "predictions = model.test(testset)"
   ]
  },
  {
   "cell_type": "code",
   "execution_count": 32,
   "metadata": {},
   "outputs": [
    {
     "data": {
      "text/plain": [
       "Prediction(uid=1699, iid='ns6680', r_ui=3.0, est=3.64434907566305, details={'was_impossible': False})"
      ]
     },
     "execution_count": 32,
     "metadata": {},
     "output_type": "execute_result"
    }
   ],
   "source": [
    "predictions[1]"
   ]
  },
  {
   "cell_type": "code",
   "execution_count": 33,
   "metadata": {},
   "outputs": [
    {
     "data": {
      "text/plain": [
       "Prediction(uid=9, iid='ns5709', r_ui=None, est=4.133783080371793, details={'was_impossible': False})"
      ]
     },
     "execution_count": 33,
     "metadata": {},
     "output_type": "execute_result"
    }
   ],
   "source": [
    "# Hacemos una predicción con userId y movieId al azar\n",
    "\n",
    "model.predict(9, 'ns5709')"
   ]
  },
  {
   "attachments": {},
   "cell_type": "markdown",
   "metadata": {},
   "source": [
    "### Predicción completa para un usuario aleatorio"
   ]
  },
  {
   "cell_type": "code",
   "execution_count": 34,
   "metadata": {},
   "outputs": [
    {
     "data": {
      "text/html": [
       "<div>\n",
       "<style scoped>\n",
       "    .dataframe tbody tr th:only-of-type {\n",
       "        vertical-align: middle;\n",
       "    }\n",
       "\n",
       "    .dataframe tbody tr th {\n",
       "        vertical-align: top;\n",
       "    }\n",
       "\n",
       "    .dataframe thead th {\n",
       "        text-align: right;\n",
       "    }\n",
       "</style>\n",
       "<table border=\"1\" class=\"dataframe\">\n",
       "  <thead>\n",
       "    <tr style=\"text-align: right;\">\n",
       "      <th></th>\n",
       "      <th>userId</th>\n",
       "      <th>score</th>\n",
       "      <th>timestamp</th>\n",
       "      <th>movieId</th>\n",
       "      <th>title</th>\n",
       "    </tr>\n",
       "  </thead>\n",
       "  <tbody>\n",
       "    <tr>\n",
       "      <th>0</th>\n",
       "      <td>44200</td>\n",
       "      <td>5.0</td>\n",
       "      <td>2013-11-10</td>\n",
       "      <td>as6154</td>\n",
       "      <td>paranormal</td>\n",
       "    </tr>\n",
       "    <tr>\n",
       "      <th>1</th>\n",
       "      <td>44200</td>\n",
       "      <td>5.0</td>\n",
       "      <td>2013-11-04</td>\n",
       "      <td>ns1757</td>\n",
       "      <td>lego jurassic world: legend of isla nublar</td>\n",
       "    </tr>\n",
       "    <tr>\n",
       "      <th>2</th>\n",
       "      <td>44200</td>\n",
       "      <td>5.0</td>\n",
       "      <td>2013-11-04</td>\n",
       "      <td>ds360</td>\n",
       "      <td>planes</td>\n",
       "    </tr>\n",
       "    <tr>\n",
       "      <th>3</th>\n",
       "      <td>44200</td>\n",
       "      <td>4.0</td>\n",
       "      <td>2015-11-07</td>\n",
       "      <td>as149</td>\n",
       "      <td>water (short)</td>\n",
       "    </tr>\n",
       "    <tr>\n",
       "      <th>4</th>\n",
       "      <td>44200</td>\n",
       "      <td>4.0</td>\n",
       "      <td>2014-10-18</td>\n",
       "      <td>as9420</td>\n",
       "      <td>the sacrament</td>\n",
       "    </tr>\n",
       "    <tr>\n",
       "      <th>...</th>\n",
       "      <td>...</td>\n",
       "      <td>...</td>\n",
       "      <td>...</td>\n",
       "      <td>...</td>\n",
       "      <td>...</td>\n",
       "    </tr>\n",
       "    <tr>\n",
       "      <th>192</th>\n",
       "      <td>44200</td>\n",
       "      <td>4.5</td>\n",
       "      <td>2016-03-09</td>\n",
       "      <td>ns3960</td>\n",
       "      <td>mercy black</td>\n",
       "    </tr>\n",
       "    <tr>\n",
       "      <th>193</th>\n",
       "      <td>44200</td>\n",
       "      <td>4.0</td>\n",
       "      <td>2016-03-09</td>\n",
       "      <td>as9069</td>\n",
       "      <td>the joyriders</td>\n",
       "    </tr>\n",
       "    <tr>\n",
       "      <th>194</th>\n",
       "      <td>44200</td>\n",
       "      <td>4.0</td>\n",
       "      <td>2016-03-09</td>\n",
       "      <td>ns2761</td>\n",
       "      <td>kannum kannum kollaiyadithaal</td>\n",
       "    </tr>\n",
       "    <tr>\n",
       "      <th>195</th>\n",
       "      <td>44200</td>\n",
       "      <td>4.5</td>\n",
       "      <td>2016-03-09</td>\n",
       "      <td>hs697</td>\n",
       "      <td>vanguard</td>\n",
       "    </tr>\n",
       "    <tr>\n",
       "      <th>196</th>\n",
       "      <td>44200</td>\n",
       "      <td>4.5</td>\n",
       "      <td>2016-11-08</td>\n",
       "      <td>hs2993</td>\n",
       "      <td>mcleod's daughters</td>\n",
       "    </tr>\n",
       "  </tbody>\n",
       "</table>\n",
       "<p>197 rows × 5 columns</p>\n",
       "</div>"
      ],
      "text/plain": [
       "     userId  score   timestamp movieId  \\\n",
       "0     44200    5.0  2013-11-10  as6154   \n",
       "1     44200    5.0  2013-11-04  ns1757   \n",
       "2     44200    5.0  2013-11-04   ds360   \n",
       "3     44200    4.0  2015-11-07   as149   \n",
       "4     44200    4.0  2014-10-18  as9420   \n",
       "..      ...    ...         ...     ...   \n",
       "192   44200    4.5  2016-03-09  ns3960   \n",
       "193   44200    4.0  2016-03-09  as9069   \n",
       "194   44200    4.0  2016-03-09  ns2761   \n",
       "195   44200    4.5  2016-03-09   hs697   \n",
       "196   44200    4.5  2016-11-08  hs2993   \n",
       "\n",
       "                                          title  \n",
       "0                                    paranormal  \n",
       "1    lego jurassic world: legend of isla nublar  \n",
       "2                                        planes  \n",
       "3                                 water (short)  \n",
       "4                                 the sacrament  \n",
       "..                                          ...  \n",
       "192                                 mercy black  \n",
       "193                               the joyriders  \n",
       "194               kannum kannum kollaiyadithaal  \n",
       "195                                    vanguard  \n",
       "196                          mcleod's daughters  \n",
       "\n",
       "[197 rows x 5 columns]"
      ]
     },
     "execution_count": 34,
     "metadata": {},
     "output_type": "execute_result"
    }
   ],
   "source": [
    "# Tomaremos un usuario al azar para hacerle una recomendación\n",
    "\n",
    "usuario = 44200\n",
    "score = 4  # Tomamos películas a las que haya calificado con 4 o 5 estrellas\n",
    "df_user = df[(df.userId == usuario) & (df.score >= score)]\n",
    "\n",
    "df_user = df_user.reset_index(drop=True)\n",
    "\n",
    "df_titles.rename(columns={'id': 'movieId'}, inplace=True)\n",
    "\n",
    "df_user = pd.merge(df_user, df_titles[['movieId', 'title']], left_on='movieId', right_on='movieId', how='left')\n",
    "\n",
    "df_user"
   ]
  },
  {
   "cell_type": "code",
   "execution_count": 35,
   "metadata": {},
   "outputs": [
    {
     "name": "stdout",
     "output_type": "stream",
     "text": [
      "(22998, 2)\n"
     ]
    },
    {
     "data": {
      "text/html": [
       "<div>\n",
       "<style scoped>\n",
       "    .dataframe tbody tr th:only-of-type {\n",
       "        vertical-align: middle;\n",
       "    }\n",
       "\n",
       "    .dataframe tbody tr th {\n",
       "        vertical-align: top;\n",
       "    }\n",
       "\n",
       "    .dataframe thead th {\n",
       "        text-align: right;\n",
       "    }\n",
       "</style>\n",
       "<table border=\"1\" class=\"dataframe\">\n",
       "  <thead>\n",
       "    <tr style=\"text-align: right;\">\n",
       "      <th></th>\n",
       "      <th>movieId</th>\n",
       "      <th>title</th>\n",
       "    </tr>\n",
       "  </thead>\n",
       "  <tbody>\n",
       "    <tr>\n",
       "      <th>0</th>\n",
       "      <td>as1</td>\n",
       "      <td>the grand seduction</td>\n",
       "    </tr>\n",
       "    <tr>\n",
       "      <th>1</th>\n",
       "      <td>as2</td>\n",
       "      <td>take care good night</td>\n",
       "    </tr>\n",
       "    <tr>\n",
       "      <th>2</th>\n",
       "      <td>as3</td>\n",
       "      <td>secrets of deception</td>\n",
       "    </tr>\n",
       "    <tr>\n",
       "      <th>3</th>\n",
       "      <td>as4</td>\n",
       "      <td>pink: staying true</td>\n",
       "    </tr>\n",
       "    <tr>\n",
       "      <th>4</th>\n",
       "      <td>as5</td>\n",
       "      <td>monster maker</td>\n",
       "    </tr>\n",
       "  </tbody>\n",
       "</table>\n",
       "</div>"
      ],
      "text/plain": [
       "  movieId                 title\n",
       "0     as1   the grand seduction\n",
       "1     as2  take care good night\n",
       "2     as3  secrets of deception\n",
       "3     as4    pink: staying true\n",
       "4     as5         monster maker"
      ]
     },
     "execution_count": 35,
     "metadata": {},
     "output_type": "execute_result"
    }
   ],
   "source": [
    "recomendaciones_usuario = df_titles.iloc[:23000].copy()\n",
    "print(recomendaciones_usuario.shape)\n",
    "recomendaciones_usuario.head()"
   ]
  },
  {
   "cell_type": "code",
   "execution_count": 36,
   "metadata": {},
   "outputs": [
    {
     "name": "stdout",
     "output_type": "stream",
     "text": [
      "(337, 4)\n"
     ]
    },
    {
     "data": {
      "text/html": [
       "<div>\n",
       "<style scoped>\n",
       "    .dataframe tbody tr th:only-of-type {\n",
       "        vertical-align: middle;\n",
       "    }\n",
       "\n",
       "    .dataframe tbody tr th {\n",
       "        vertical-align: top;\n",
       "    }\n",
       "\n",
       "    .dataframe thead th {\n",
       "        text-align: right;\n",
       "    }\n",
       "</style>\n",
       "<table border=\"1\" class=\"dataframe\">\n",
       "  <thead>\n",
       "    <tr style=\"text-align: right;\">\n",
       "      <th></th>\n",
       "      <th>userId</th>\n",
       "      <th>score</th>\n",
       "      <th>timestamp</th>\n",
       "      <th>movieId</th>\n",
       "    </tr>\n",
       "  </thead>\n",
       "  <tbody>\n",
       "    <tr>\n",
       "      <th>4254853</th>\n",
       "      <td>44200</td>\n",
       "      <td>3.5</td>\n",
       "      <td>2013-11-12</td>\n",
       "      <td>as4033</td>\n",
       "    </tr>\n",
       "    <tr>\n",
       "      <th>4254854</th>\n",
       "      <td>44200</td>\n",
       "      <td>5.0</td>\n",
       "      <td>2013-11-10</td>\n",
       "      <td>as6154</td>\n",
       "    </tr>\n",
       "    <tr>\n",
       "      <th>4254855</th>\n",
       "      <td>44200</td>\n",
       "      <td>5.0</td>\n",
       "      <td>2013-11-04</td>\n",
       "      <td>ns1757</td>\n",
       "    </tr>\n",
       "    <tr>\n",
       "      <th>4254856</th>\n",
       "      <td>44200</td>\n",
       "      <td>5.0</td>\n",
       "      <td>2013-11-04</td>\n",
       "      <td>ds360</td>\n",
       "    </tr>\n",
       "    <tr>\n",
       "      <th>4254857</th>\n",
       "      <td>44200</td>\n",
       "      <td>3.0</td>\n",
       "      <td>2013-11-23</td>\n",
       "      <td>hs2132</td>\n",
       "    </tr>\n",
       "  </tbody>\n",
       "</table>\n",
       "</div>"
      ],
      "text/plain": [
       "         userId  score   timestamp movieId\n",
       "4254853   44200    3.5  2013-11-12  as4033\n",
       "4254854   44200    5.0  2013-11-10  as6154\n",
       "4254855   44200    5.0  2013-11-04  ns1757\n",
       "4254856   44200    5.0  2013-11-04   ds360\n",
       "4254857   44200    3.0  2013-11-23  hs2132"
      ]
     },
     "execution_count": 36,
     "metadata": {},
     "output_type": "execute_result"
    }
   ],
   "source": [
    "# Debemos extraer las películas que ya ha visto\n",
    "\n",
    "usuario_vistas = df[df['userId'] == usuario]\n",
    "print(usuario_vistas.shape)\n",
    "usuario_vistas.head()"
   ]
  },
  {
   "cell_type": "code",
   "execution_count": 37,
   "metadata": {},
   "outputs": [
    {
     "data": {
      "text/plain": [
       "(22663, 2)"
      ]
     },
     "execution_count": 37,
     "metadata": {},
     "output_type": "execute_result"
    }
   ],
   "source": [
    "# Eliminamos las peliculas que el usuario ya vió\n",
    "\n",
    "recomendaciones_usuario = recomendaciones_usuario[~recomendaciones_usuario['movieId'].isin(usuario_vistas['movieId'])]\n",
    "\n",
    "recomendaciones_usuario.shape"
   ]
  },
  {
   "cell_type": "code",
   "execution_count": 38,
   "metadata": {},
   "outputs": [],
   "source": [
    "# Recomendamos\n",
    "\n",
    "recomendaciones_usuario['Estimate_Score'] = recomendaciones_usuario['movieId'].apply(lambda x: model.predict(usuario, x).est)"
   ]
  },
  {
   "cell_type": "code",
   "execution_count": 39,
   "metadata": {},
   "outputs": [
    {
     "name": "stdout",
     "output_type": "stream",
     "text": [
      "      movieId                 title  Estimate_Score\n",
      "8231   as8232     the wheel of time        4.155093\n",
      "11296   hs179          the simpsons        4.118489\n",
      "3056   as3057    black lives matter        4.061354\n",
      "20127  ns5937     shrek the musical        4.057249\n",
      "15027   ns837             ghost lab        4.053570\n",
      "16748  ns2558         scissor seven        4.049704\n",
      "13562  hs2445                casual        4.046605\n",
      "19366  ns5176         lady dynamite        4.034041\n",
      "22397  ns8207              the beat        4.033227\n",
      "110     as111  who killed doc robin        4.022706\n"
     ]
    }
   ],
   "source": [
    "recomendaciones_usuario = recomendaciones_usuario.sort_values('Estimate_Score', ascending=False)\n",
    "print(recomendaciones_usuario.head(10))"
   ]
  },
  {
   "attachments": {},
   "cell_type": "markdown",
   "metadata": {},
   "source": [
    "## Evaluación del modelo"
   ]
  },
  {
   "cell_type": "code",
   "execution_count": 42,
   "metadata": {},
   "outputs": [
    {
     "name": "stdout",
     "output_type": "stream",
     "text": [
      "RMSE: 0.9682\n"
     ]
    },
    {
     "data": {
      "text/plain": [
       "0.9681631718134432"
      ]
     },
     "execution_count": 42,
     "metadata": {},
     "output_type": "execute_result"
    }
   ],
   "source": [
    "# Evaluamos el accuracy del modelo\n",
    "\n",
    "from surprise import accuracy\n",
    "\n",
    "accuracy.rmse(predictions)"
   ]
  },
  {
   "attachments": {},
   "cell_type": "markdown",
   "metadata": {},
   "source": [
    "### Optimización de los hiperparametros"
   ]
  },
  {
   "cell_type": "code",
   "execution_count": 43,
   "metadata": {},
   "outputs": [
    {
     "name": "stdout",
     "output_type": "stream",
     "text": [
      "1\n",
      "Evaluating RMSE of algorithm SVD on 3 split(s).\n",
      "\n",
      "                  Fold 1  Fold 2  Fold 3  Mean    Std     \n",
      "RMSE (testset)    0.9529  0.9584  0.9592  0.9568  0.0028  \n",
      "Fit time          1.03    0.94    0.92    0.96    0.05    \n",
      "Test time         0.75    0.66    0.56    0.66    0.08    \n",
      "2\n",
      "Evaluating RMSE of algorithm SVD on 3 split(s).\n",
      "\n",
      "                  Fold 1  Fold 2  Fold 3  Mean    Std     \n",
      "RMSE (testset)    0.9574  0.9543  0.9557  0.9558  0.0013  \n",
      "Fit time          0.88    0.90    0.91    0.90    0.01    \n",
      "Test time         0.59    0.58    0.62    0.60    0.02    \n",
      "4\n",
      "Evaluating RMSE of algorithm SVD on 3 split(s).\n",
      "\n",
      "                  Fold 1  Fold 2  Fold 3  Mean    Std     \n",
      "RMSE (testset)    0.9545  0.9583  0.9591  0.9573  0.0020  \n",
      "Fit time          0.91    0.93    1.30    1.05    0.18    \n",
      "Test time         0.41    0.41    0.50    0.44    0.04    \n",
      "8\n",
      "Evaluating RMSE of algorithm SVD on 3 split(s).\n",
      "\n",
      "                  Fold 1  Fold 2  Fold 3  Mean    Std     \n",
      "RMSE (testset)    0.9588  0.9558  0.9550  0.9566  0.0016  \n",
      "Fit time          1.19    1.69    1.06    1.31    0.27    \n",
      "Test time         0.47    0.44    0.56    0.49    0.05    \n",
      "16\n"
     ]
    }
   ],
   "source": [
    "from surprise.model_selection import cross_validate\n",
    "import numpy as np\n",
    "\n",
    "rmse_test_means = []\n",
    "factores = [1,2,4,8,16,32,64,128]\n",
    "\n",
    "for factor in factores:\n",
    "    print(factor)\n",
    "    model = SVD(n_factors=factor)\n",
    "    cv = cross_validate(model, data, measures=['RMSE'], cv = 3, verbose=True)\n",
    "    rmse_test_means.append(np.mean(cv['test_rmse']))"
   ]
  },
  {
   "cell_type": "code",
   "execution_count": null,
   "metadata": {},
   "outputs": [
    {
     "data": {
      "image/png": "[encoded data removed]",
      "text/plain": [
       "<Figure size 640x480 with 1 Axes>"
      ]
     },
     "metadata": {},
     "output_type": "display_data"
    }
   ],
   "source": [
    "# Ploteamos desempeño según cantidad de factores de SVD\n",
    "\n",
    "plt.scatter(factores, rmse_test_means)\n",
    "plt.xlabel('Numero de factores')\n",
    "plt.ylabel('Error RMSE')\n",
    "plt.show()"
   ]
  },
  {
   "attachments": {},
   "cell_type": "markdown",
   "metadata": {},
   "source": [
    "### Predicción ingresando un id de usuario y uno de pelicula"
   ]
  },
  {
   "cell_type": "code",
   "execution_count": 40,
   "metadata": {},
   "outputs": [],
   "source": [
    "def get_movie_recommendation(userId, movieId):\n",
    "    # Obtenemos la predicción de la calificación que el usuario le daría a la película\n",
    "    prediction = model.predict(userId, str(movieId))\n",
    "    \n",
    "    # Verificar si el id de la película existe en df_title\n",
    "    if movieId not in df_titles.movieId.values:\n",
    "      return 'La película con el id ingresado no existe.', movieId\n",
    "\n",
    "    # Verificar si el userId del usuario existe\n",
    "    if userId not in df.userId.values:\n",
    "      return 'El usuario con el id ingresado no existe.', userId\n",
    "    \n",
    "    # Si la predicción es mayor o igual a 3.5, se recomienda la película\n",
    "    if prediction.est >= 3.5:\n",
    "        return \"Recomendada\", prediction.est\n",
    "    else:\n",
    "        return \"No recomendada\", prediction.est"
   ]
  },
  {
   "cell_type": "code",
   "execution_count": 41,
   "metadata": {},
   "outputs": [
    {
     "name": "stdout",
     "output_type": "stream",
     "text": [
      "La película es: ('Recomendada', 3.950838305289089)\n"
     ]
    }
   ],
   "source": [
    "# Ejemplo del funcionamiento de get_movie_recommendation\n",
    "\n",
    "# ID del usuario\n",
    "user_id = 12\n",
    "# ID de la película\n",
    "movie_id = 'as12'\n",
    "\n",
    "# Obtener la recomendación para el usuario y la película\n",
    "recommendation = get_movie_recommendation(user_id, movie_id)\n",
    "\n",
    "# Imprimir la recomendación\n",
    "print(\"La película es:\", recommendation)"
   ]
  },
  {
   "cell_type": "code",
   "execution_count": null,
   "metadata": {},
   "outputs": [],
   "source": [
    "# Esta función la creamos con el fin de saber el titulo de la pelicula que recomendamos o no\n",
    "\n",
    "def get_movie_title(movieId):\n",
    "    return df_titles[df_titles.movieId == movieId].title.iloc[0].title()"
   ]
  },
  {
   "cell_type": "code",
   "execution_count": null,
   "metadata": {},
   "outputs": [
    {
     "data": {
      "text/plain": [
       "'Whitechapel'"
      ]
     },
     "execution_count": 21,
     "metadata": {},
     "output_type": "execute_result"
    }
   ],
   "source": [
    "# Probamos la función\n",
    "get_movie_title('as113')"
   ]
  },
  {
   "cell_type": "code",
   "execution_count": null,
   "metadata": {},
   "outputs": [],
   "source": [
    "# Utilizaremos la funcion \"get_movie_recommendation\" previamente declarada \n",
    "# y la de get_movie_title recientemente declarada para crear una nueva función combinada\n",
    "\n",
    "def combined_functions(userId, movieId):\n",
    "    # Verificar si el id de la película existe en df_title\n",
    "    if movieId not in df_titles.movieId.values:\n",
    "      return ('La pelicula con el id ingresado no existe.', 0, '')\n",
    "    # Verificar si el userId del usuario existe \n",
    "    elif userId not in df.userId.values:\n",
    "      return ('El usuario con el id ingresado no existe.', 0, '')\n",
    "    else:          \n",
    "        recommended, score = get_movie_recommendation(userId, movieId)\n",
    "        title = get_movie_title(movieId)\n",
    "        return (recommended, score, title)\n"
   ]
  },
  {
   "cell_type": "code",
   "execution_count": null,
   "metadata": {},
   "outputs": [
    {
     "data": {
      "text/plain": [
       "('Recomendada', 4.210412420284361, 'Forest Fairies')"
      ]
     },
     "execution_count": 23,
     "metadata": {},
     "output_type": "execute_result"
    }
   ],
   "source": [
    "combined_functions(1, 'as11')"
   ]
  },
  {
   "attachments": {},
   "cell_type": "markdown",
   "metadata": {},
   "source": [
    "# Interfaz de usuario mediante gradio"
   ]
  },
  {
   "cell_type": "code",
   "execution_count": null,
   "metadata": {},
   "outputs": [],
   "source": [
    "# Importo la libreria de gradio para hacer la interfaz\n",
    "import gradio as gr"
   ]
  },
  {
   "cell_type": "code",
   "execution_count": null,
   "metadata": {},
   "outputs": [
    {
     "name": "stderr",
     "output_type": "stream",
     "text": [
      "c:\\Users\\Administrator\\AppData\\Local\\Programs\\Python\\Python310\\lib\\site-packages\\gradio\\inputs.py:59: UserWarning: Usage of gradio.inputs is deprecated, and will not be supported in the future, please import your component from gradio.components\n",
      "  warnings.warn(\n",
      "c:\\Users\\Administrator\\AppData\\Local\\Programs\\Python\\Python310\\lib\\site-packages\\gradio\\deprecation.py:40: UserWarning: `optional` parameter is deprecated, and it has no effect\n",
      "  warnings.warn(value)\n"
     ]
    },
    {
     "name": "stdout",
     "output_type": "stream",
     "text": [
      "Running on local URL:  http://127.0.0.1:7860\n",
      "Running on public URL: https://2de50613-6e2c-43a3.gradio.live\n",
      "\n",
      "This share link expires in 72 hours. For free permanent hosting and GPU upgrades (NEW!), check out Spaces: https://huggingface.co/spaces\n"
     ]
    },
    {
     "data": {
      "text/html": [
       "<div><iframe src=\"https://2de50613-6e2c-43a3.gradio.live\" width=\"100%\" height=\"500\" allow=\"autoplay; camera; microphone; clipboard-read; clipboard-write;\" frameborder=\"0\" allowfullscreen></iframe></div>"
      ],
      "text/plain": [
       "<IPython.core.display.HTML object>"
      ]
     },
     "metadata": {},
     "output_type": "display_data"
    },
    {
     "data": {
      "text/plain": []
     },
     "execution_count": 25,
     "metadata": {},
     "output_type": "execute_result"
    }
   ],
   "source": [
    "title = str(\"Sistema de recomendación de peliculas\")\n",
    "\n",
    "with gr.Blocks(title= title) as demo:\n",
    "    text = gr.components.HTML(\"\"\"\n",
    "    <h1>Bienvenido al sistema de recomendación de peliculas!</h1>\n",
    "    \"\"\")\n",
    "    userId = gr.inputs.Number(label=\"Ingresa tu id\")\n",
    "    movie = gr.Textbox(label=\"Ingresa una id de pelicula\")\n",
    "    get_recommendation_btn = gr.Button(\"Averigua si la pelicula es recomendada para ti\")\n",
    "    title = gr.Textbox(label = \"Nombre de la pelicula:\")\n",
    "    output = gr.Textbox(label=\"¿Se recomienda la pelicula?\")\n",
    "    score = gr.Textbox(label=\"Score predicho:\")\n",
    "    get_recommendation_btn.click(fn=combined_functions, inputs=[userId,movie], outputs=[output, score, title])\n",
    "\n",
    "demo.launch(share=True)"
   ]
  }
 ],
 "metadata": {
  "kernelspec": {
   "display_name": "Python 3",
   "language": "python",
   "name": "python3"
  },
  "language_info": {
   "codemirror_mode": {
    "name": "ipython",
    "version": 3
   },
   "file_extension": ".py",
   "mimetype": "text/x-python",
   "name": "python",
   "nbconvert_exporter": "python",
   "pygments_lexer": "ipython3",
   "version": "3.10.9"
  },
  "orig_nbformat": 4,
  "vscode": {
   "interpreter": {
    "hash": "3196968d684371006099b3d55edeef8ed90365227a30deaef86e5d4aa8519be0"
   }
  }
 },
 "nbformat": 4,
 "nbformat_minor": 2
}
